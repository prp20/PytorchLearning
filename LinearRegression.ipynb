{
  "nbformat": 4,
  "nbformat_minor": 0,
  "metadata": {
    "colab": {
      "name": "LinearRegression.ipynb",
      "provenance": [],
      "authorship_tag": "ABX9TyPCn6mieRQIqNAEv+y/wehq",
      "include_colab_link": true
    },
    "kernelspec": {
      "name": "python3",
      "display_name": "Python 3"
    },
    "language_info": {
      "name": "python"
    }
  },
  "cells": [
    {
      "cell_type": "markdown",
      "metadata": {
        "id": "view-in-github",
        "colab_type": "text"
      },
      "source": [
        "<a href=\"https://colab.research.google.com/github/prp20/PytorchLearning/blob/main/LinearRegression.ipynb\" target=\"_parent\"><img src=\"https://colab.research.google.com/assets/colab-badge.svg\" alt=\"Open In Colab\"/></a>"
      ]
    },
    {
      "cell_type": "code",
      "metadata": {
        "id": "ozXR-ughrwPt",
        "colab": {
          "base_uri": "https://localhost:8080/"
        },
        "outputId": "0351cdcd-8e0b-4a65-c577-41a4b0539805"
      },
      "source": [
        "!pip install torch"
      ],
      "execution_count": 34,
      "outputs": [
        {
          "output_type": "stream",
          "name": "stdout",
          "text": [
            "Requirement already satisfied: torch in /usr/local/lib/python3.7/dist-packages (1.9.0+cu111)\n",
            "Requirement already satisfied: typing-extensions in /usr/local/lib/python3.7/dist-packages (from torch) (3.7.4.3)\n"
          ]
        }
      ]
    },
    {
      "cell_type": "code",
      "metadata": {
        "id": "xX9PHms23G9y"
      },
      "source": [
        "import torch\n",
        "import torch.nn as nn\n",
        "import numpy as np\n",
        "import matplotlib.pyplot as plt"
      ],
      "execution_count": 35,
      "outputs": []
    },
    {
      "cell_type": "code",
      "metadata": {
        "colab": {
          "base_uri": "https://localhost:8080/",
          "height": 297
        },
        "id": "VLADsPGM30Bj",
        "outputId": "fc396576-2f37-4eab-e039-5d88f2898fd1"
      },
      "source": [
        "X = torch.randn(100, 1)*10\n",
        "y = X + 3*torch.randn(100, 1)\n",
        "plt.plot(X.numpy(), y.numpy(), 'o')\n",
        "plt.ylabel('y')\n",
        "plt.xlabel('x')"
      ],
      "execution_count": 45,
      "outputs": [
        {
          "output_type": "execute_result",
          "data": {
            "text/plain": [
              "Text(0.5, 0, 'x')"
            ]
          },
          "metadata": {},
          "execution_count": 45
        },
        {
          "output_type": "display_data",
          "data": {
            "image/png": "[encoded data removed]",
            "text/plain": [
              "<Figure size 432x288 with 1 Axes>"
            ]
          },
          "metadata": {
            "needs_background": "light"
          }
        }
      ]
    },
    {
      "cell_type": "code",
      "metadata": {
        "id": "t5ZJ10nz5-y3"
      },
      "source": [
        ""
      ],
      "execution_count": null,
      "outputs": []
    },
    {
      "cell_type": "code",
      "metadata": {
        "id": "nkrEjVET4zyp"
      },
      "source": [
        "class LR(nn.Module):\n",
        "  def __init__(self, input_size, output_size):\n",
        "    super().__init__()\n",
        "    self.linear = nn.Linear(input_size, output_size)\n",
        "  def forward(self, x):\n",
        "    pred = self.linear(x)\n",
        "    return pred"
      ],
      "execution_count": 37,
      "outputs": []
    },
    {
      "cell_type": "code",
      "metadata": {
        "colab": {
          "base_uri": "https://localhost:8080/"
        },
        "id": "fuERRyGr42Dp",
        "outputId": "ae46bf8c-44cb-4407-a42e-3a79a2fb5680"
      },
      "source": [
        "torch.manual_seed(1)\n",
        "model = LR(1, 1)\n",
        "print(model)"
      ],
      "execution_count": 38,
      "outputs": [
        {
          "output_type": "stream",
          "name": "stdout",
          "text": [
            "LR(\n",
            "  (linear): Linear(in_features=1, out_features=1, bias=True)\n",
            ")\n"
          ]
        }
      ]
    },
    {
      "cell_type": "code",
      "metadata": {
        "id": "ihc1p6Wy4Ppw"
      },
      "source": [
        "[w, b] = model.parameters()\n",
        "def get_params():\n",
        "  return (w[0][0].item(), b[0].item())"
      ],
      "execution_count": 39,
      "outputs": []
    },
    {
      "cell_type": "code",
      "metadata": {
        "id": "0HrhaDxk5Z4H"
      },
      "source": [
        "def plot_fit(title):\n",
        "  plt.title = title\n",
        "  w1, b1 = get_params()\n",
        "  x1 = np.array([-30, 30])\n",
        "  y1 = w1*x1 + b1\n",
        "  plt.plot(x1, y1, 'r')\n",
        "  plt.scatter(X, y)\n",
        "  plt.show()"
      ],
      "execution_count": 40,
      "outputs": []
    },
    {
      "cell_type": "code",
      "metadata": {
        "colab": {
          "base_uri": "https://localhost:8080/",
          "height": 265
        },
        "id": "YXou3bBm5dK_",
        "outputId": "e4401a49-3382-41e5-8cc2-b185ae59e879"
      },
      "source": [
        "plot_fit('Initial Model')"
      ],
      "execution_count": 41,
      "outputs": [
        {
          "output_type": "display_data",
          "data": {
            "image/png": "[encoded data removed]",
            "text/plain": [
              "<Figure size 432x288 with 1 Axes>"
            ]
          },
          "metadata": {
            "needs_background": "light"
          }
        }
      ]
    },
    {
      "cell_type": "code",
      "metadata": {
        "id": "XunOhsah5ih3"
      },
      "source": [
        "criterion = nn.MSELoss()\n",
        "optimizer = torch.optim.SGD(model.parameters(), lr = 0.01)"
      ],
      "execution_count": 42,
      "outputs": []
    },
    {
      "cell_type": "code",
      "metadata": {
        "colab": {
          "base_uri": "https://localhost:8080/"
        },
        "id": "Zs16y8wp3R8J",
        "outputId": "43e0fdbf-195d-48cd-9408-09f225424099"
      },
      "source": [
        "epochs = 100\n",
        "losses = []\n",
        "for i in range(epochs):\n",
        "  y_pred = model.forward(X)\n",
        "  loss = criterion(y_pred, y)\n",
        "  print(\"epoch:\", i, \"loss:\", loss.item())\n",
        "  \n",
        "  losses.append(loss)\n",
        "  optimizer.zero_grad()\n",
        "  loss.backward()\n",
        "  optimizer.step()"
      ],
      "execution_count": 43,
      "outputs": [
        {
          "output_type": "stream",
          "name": "stdout",
          "text": [
            "epoch: 0 loss: 28.914575576782227\n",
            "epoch: 1 loss: 20.61296844482422\n",
            "epoch: 2 loss: 15.965326309204102\n",
            "epoch: 3 loss: 13.363329887390137\n",
            "epoch: 4 loss: 11.906599044799805\n",
            "epoch: 5 loss: 11.091031074523926\n",
            "epoch: 6 loss: 10.634418487548828\n",
            "epoch: 7 loss: 10.378766059875488\n",
            "epoch: 8 loss: 10.235618591308594\n",
            "epoch: 9 loss: 10.155462265014648\n",
            "epoch: 10 loss: 10.110568046569824\n",
            "epoch: 11 loss: 10.085415840148926\n",
            "epoch: 12 loss: 10.071319580078125\n",
            "epoch: 13 loss: 10.063411712646484\n",
            "epoch: 14 loss: 10.058968544006348\n",
            "epoch: 15 loss: 10.056467056274414\n",
            "epoch: 16 loss: 10.055052757263184\n",
            "epoch: 17 loss: 10.054245948791504\n",
            "epoch: 18 loss: 10.053781509399414\n",
            "epoch: 19 loss: 10.053510665893555\n",
            "epoch: 20 loss: 10.053346633911133\n",
            "epoch: 21 loss: 10.053242683410645\n",
            "epoch: 22 loss: 10.053173065185547\n",
            "epoch: 23 loss: 10.05312442779541\n",
            "epoch: 24 loss: 10.05308723449707\n",
            "epoch: 25 loss: 10.053055763244629\n",
            "epoch: 26 loss: 10.05302906036377\n",
            "epoch: 27 loss: 10.053004264831543\n",
            "epoch: 28 loss: 10.052982330322266\n",
            "epoch: 29 loss: 10.052962303161621\n",
            "epoch: 30 loss: 10.052942276000977\n",
            "epoch: 31 loss: 10.052924156188965\n",
            "epoch: 32 loss: 10.052906036376953\n",
            "epoch: 33 loss: 10.052889823913574\n",
            "epoch: 34 loss: 10.052872657775879\n",
            "epoch: 35 loss: 10.0528564453125\n",
            "epoch: 36 loss: 10.05284309387207\n",
            "epoch: 37 loss: 10.052826881408691\n",
            "epoch: 38 loss: 10.052813529968262\n",
            "epoch: 39 loss: 10.052800178527832\n",
            "epoch: 40 loss: 10.052787780761719\n",
            "epoch: 41 loss: 10.052775382995605\n",
            "epoch: 42 loss: 10.052762985229492\n",
            "epoch: 43 loss: 10.052752494812012\n",
            "epoch: 44 loss: 10.052740097045898\n",
            "epoch: 45 loss: 10.052729606628418\n",
            "epoch: 46 loss: 10.052720069885254\n",
            "epoch: 47 loss: 10.05271053314209\n",
            "epoch: 48 loss: 10.052700996398926\n",
            "epoch: 49 loss: 10.052691459655762\n",
            "epoch: 50 loss: 10.052682876586914\n",
            "epoch: 51 loss: 10.0526762008667\n",
            "epoch: 52 loss: 10.052667617797852\n",
            "epoch: 53 loss: 10.05265998840332\n",
            "epoch: 54 loss: 10.052652359008789\n",
            "epoch: 55 loss: 10.052645683288574\n",
            "epoch: 56 loss: 10.05263900756836\n",
            "epoch: 57 loss: 10.052633285522461\n",
            "epoch: 58 loss: 10.052626609802246\n",
            "epoch: 59 loss: 10.052619934082031\n",
            "epoch: 60 loss: 10.052614212036133\n",
            "epoch: 61 loss: 10.052608489990234\n",
            "epoch: 62 loss: 10.052603721618652\n",
            "epoch: 63 loss: 10.052597999572754\n",
            "epoch: 64 loss: 10.052593231201172\n",
            "epoch: 65 loss: 10.052587509155273\n",
            "epoch: 66 loss: 10.05258560180664\n",
            "epoch: 67 loss: 10.052579879760742\n",
            "epoch: 68 loss: 10.052576065063477\n",
            "epoch: 69 loss: 10.052571296691895\n",
            "epoch: 70 loss: 10.052566528320312\n",
            "epoch: 71 loss: 10.052563667297363\n",
            "epoch: 72 loss: 10.052560806274414\n",
            "epoch: 73 loss: 10.052556991577148\n",
            "epoch: 74 loss: 10.0525541305542\n",
            "epoch: 75 loss: 10.052550315856934\n",
            "epoch: 76 loss: 10.052547454833984\n",
            "epoch: 77 loss: 10.052544593811035\n",
            "epoch: 78 loss: 10.052541732788086\n",
            "epoch: 79 loss: 10.052539825439453\n",
            "epoch: 80 loss: 10.052536964416504\n",
            "epoch: 81 loss: 10.052534103393555\n",
            "epoch: 82 loss: 10.052532196044922\n",
            "epoch: 83 loss: 10.052530288696289\n",
            "epoch: 84 loss: 10.052526473999023\n",
            "epoch: 85 loss: 10.05252456665039\n",
            "epoch: 86 loss: 10.052523612976074\n",
            "epoch: 87 loss: 10.052522659301758\n",
            "epoch: 88 loss: 10.052519798278809\n",
            "epoch: 89 loss: 10.052517890930176\n",
            "epoch: 90 loss: 10.05251693725586\n",
            "epoch: 91 loss: 10.05251407623291\n",
            "epoch: 92 loss: 10.052512168884277\n",
            "epoch: 93 loss: 10.052511215209961\n",
            "epoch: 94 loss: 10.052510261535645\n",
            "epoch: 95 loss: 10.052508354187012\n",
            "epoch: 96 loss: 10.052506446838379\n",
            "epoch: 97 loss: 10.052506446838379\n",
            "epoch: 98 loss: 10.052504539489746\n",
            "epoch: 99 loss: 10.052502632141113\n"
          ]
        }
      ]
    },
    {
      "cell_type": "code",
      "metadata": {
        "colab": {
          "base_uri": "https://localhost:8080/",
          "height": 297
        },
        "id": "7h1vjjDP5tno",
        "outputId": "504c2542-16b3-4bb7-9e50-00c833c03407"
      },
      "source": [
        "plt.plot(range(epochs), losses)\n",
        "plt.ylabel('Loss')\n",
        "plt.xlabel('epoch')"
      ],
      "execution_count": 46,
      "outputs": [
        {
          "output_type": "execute_result",
          "data": {
            "text/plain": [
              "Text(0.5, 0, 'epoch')"
            ]
          },
          "metadata": {},
          "execution_count": 46
        },
        {
          "output_type": "display_data",
          "data": {
            "image/png": "[encoded data removed]",
            "text/plain": [
              "<Figure size 432x288 with 1 Axes>"
            ]
          },
          "metadata": {
            "needs_background": "light"
          }
        }
      ]
    },
    {
      "cell_type": "code",
      "metadata": {
        "colab": {
          "base_uri": "https://localhost:8080/",
          "height": 265
        },
        "id": "SQbzhERI6Apf",
        "outputId": "66ab6c48-595b-4c6d-948f-d32a4d45c18a"
      },
      "source": [
        "plot_fit(\"Trained Model\")"
      ],
      "execution_count": 47,
      "outputs": [
        {
          "output_type": "display_data",
          "data": {
            "image/png": "[encoded data removed]",
            "text/plain": [
              "<Figure size 432x288 with 1 Axes>"
            ]
          },
          "metadata": {
            "needs_background": "light"
          }
        }
      ]
    }
  ]
}